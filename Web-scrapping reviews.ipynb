{
 "cells": [
  {
   "cell_type": "code",
   "execution_count": 1,
   "id": "sustained-karen",
   "metadata": {},
   "outputs": [],
   "source": [
    "import requests\n",
    "from bs4 import BeautifulSoup"
   ]
  },
  {
   "cell_type": "code",
   "execution_count": 2,
   "id": "entitled-tuning",
   "metadata": {
    "scrolled": true
   },
   "outputs": [
    {
     "name": "stdout",
     "output_type": "stream",
     "text": [
      "10\n",
      "20\n",
      "30\n",
      "40\n",
      "50\n",
      "60\n",
      "70\n",
      "80\n",
      "90\n",
      "100\n",
      "110\n",
      "120\n",
      "130\n",
      "140\n",
      "150\n",
      "160\n",
      "170\n",
      "180\n",
      "190\n",
      "200\n",
      "210\n",
      "220\n",
      "230\n",
      "240\n",
      "250\n",
      "260\n",
      "270\n",
      "280\n",
      "290\n",
      "300\n",
      "310\n",
      "320\n",
      "330\n",
      "340\n",
      "350\n",
      "360\n",
      "370\n",
      "380\n",
      "390\n",
      "400\n",
      "410\n",
      "420\n",
      "430\n",
      "440\n",
      "450\n",
      "460\n",
      "470\n",
      "480\n",
      "490\n",
      "500\n",
      "510\n",
      "520\n",
      "530\n",
      "540\n",
      "550\n",
      "560\n",
      "570\n",
      "580\n",
      "590\n",
      "600\n",
      "610\n",
      "620\n",
      "630\n",
      "640\n",
      "650\n",
      "660\n",
      "670\n",
      "680\n",
      "690\n",
      "700\n",
      "710\n",
      "720\n",
      "730\n",
      "740\n",
      "750\n",
      "760\n",
      "770\n",
      "780\n",
      "790\n",
      "800\n",
      "810\n",
      "820\n",
      "830\n",
      "840\n",
      "850\n",
      "860\n",
      "870\n",
      "880\n",
      "890\n",
      "900\n",
      "910\n",
      "920\n",
      "930\n",
      "940\n",
      "950\n",
      "960\n",
      "970\n",
      "980\n",
      "990\n",
      "1000\n"
     ]
    }
   ],
   "source": [
    "stars = []\n",
    "review = []\n",
    "review_text = []\n",
    "\n",
    "for k in range(1,1001):\n",
    "    url = 'https://www.flipkart.com/realme-buds-q-bluetooth-headset/product-reviews/itm2a9c125711e36?pid=ACCFVWN4PGNTEFGY&lid=LSTACCFVWN4PGNTEFGYNDRHV5&marketplace=FLIPKART&page='+str(k)\n",
    "    res = requests.get(url)\n",
    "    html = res.text\n",
    "    soup = BeautifulSoup(html,'html.parser')\n",
    "\n",
    "    temp1=[]\n",
    "    temp2=[]\n",
    "    temp3=[]\n",
    "    \n",
    "    for i in soup.findAll('div',{'class':'_1AtVbE col-12-12'}):\n",
    "        temp1.append(i.findAll('div',{'class':'_3LWZlK _32lA32 _1BLPMq'}))\n",
    "        temp2.append(i.findAll('div',{'class':'_3LWZlK _1rdVr6 _1BLPMq'}))\n",
    "        temp3.append(i.findAll('div',{'class':'_3LWZlK _1BLPMq'}))\n",
    "\n",
    "    l=[]    \n",
    "    for i in range(len(temp3)):\n",
    "        if temp3[i]:\n",
    "            l.append(temp3[i][0].text)\n",
    "        elif temp2[i]:\n",
    "            l.append(temp2[i][0].text)\n",
    "        elif temp1[i]:\n",
    "            l.append(temp1[i][0].text)\n",
    "            \n",
    "    \n",
    "    m=[]\n",
    "    for i in soup.findAll('div',{'class':'_1AtVbE col-12-12'}):\n",
    "        for j in i.findAll('p',{'class','_2-N8zT'}):\n",
    "            m.append(j.text)\n",
    "    \n",
    "    n=[]\n",
    "    for i in soup.findAll('div',{'class':'_1AtVbE col-12-12'}):\n",
    "        for j in i.findAll('div',{'class','t-ZTKy'}):\n",
    "            n.append(j.text)\n",
    "            \n",
    "    if (len(l) == len(m)) and (len(m) == len(n)):\n",
    "        if k%10==0:\n",
    "            print(k)\n",
    "        stars.append(l)\n",
    "        review.append(m)\n",
    "        new_list = [s.replace(\"READ MORE\", \"\") for s in n]\n",
    "        review_text.append(new_list)"
   ]
  },
  {
   "cell_type": "code",
   "execution_count": 3,
   "id": "tough-architect",
   "metadata": {},
   "outputs": [
    {
     "name": "stdout",
     "output_type": "stream",
     "text": [
      "1000\n",
      "1000\n",
      "1000\n"
     ]
    }
   ],
   "source": [
    "print(len(stars))\n",
    "print(len(review))\n",
    "print(len(review_text))"
   ]
  },
  {
   "cell_type": "code",
   "execution_count": 4,
   "id": "announced-assault",
   "metadata": {},
   "outputs": [],
   "source": [
    "stars = [j for sub in stars for j in sub]\n",
    "review = [j for sub in review for j in sub]\n",
    "review_text = [j for sub in review_text for j in sub]"
   ]
  },
  {
   "cell_type": "code",
   "execution_count": 5,
   "id": "framed-border",
   "metadata": {},
   "outputs": [
    {
     "name": "stdout",
     "output_type": "stream",
     "text": [
      "9825\n",
      "9825\n",
      "9825\n"
     ]
    }
   ],
   "source": [
    "print(len(stars))\n",
    "print(len(review))\n",
    "print(len(review_text))"
   ]
  },
  {
   "cell_type": "code",
   "execution_count": 11,
   "id": "expired-secret",
   "metadata": {},
   "outputs": [],
   "source": [
    "import pandas as pd"
   ]
  },
  {
   "cell_type": "code",
   "execution_count": 12,
   "id": "effective-sender",
   "metadata": {},
   "outputs": [],
   "source": [
    "df = pd.DataFrame(list(zip(review,review_text)),columns =['Header_review', 'review_text'])"
   ]
  },
  {
   "cell_type": "code",
   "execution_count": 13,
   "id": "alone-collaboration",
   "metadata": {},
   "outputs": [],
   "source": [
    "df['rating'] = stars"
   ]
  },
  {
   "cell_type": "code",
   "execution_count": 14,
   "id": "regulation-warner",
   "metadata": {},
   "outputs": [
    {
     "data": {
      "text/html": [
       "<div>\n",
       "<style scoped>\n",
       "    .dataframe tbody tr th:only-of-type {\n",
       "        vertical-align: middle;\n",
       "    }\n",
       "\n",
       "    .dataframe tbody tr th {\n",
       "        vertical-align: top;\n",
       "    }\n",
       "\n",
       "    .dataframe thead th {\n",
       "        text-align: right;\n",
       "    }\n",
       "</style>\n",
       "<table border=\"1\" class=\"dataframe\">\n",
       "  <thead>\n",
       "    <tr style=\"text-align: right;\">\n",
       "      <th></th>\n",
       "      <th>Header_review</th>\n",
       "      <th>review_text</th>\n",
       "      <th>rating</th>\n",
       "    </tr>\n",
       "  </thead>\n",
       "  <tbody>\n",
       "    <tr>\n",
       "      <th>0</th>\n",
       "      <td>Value-for-money</td>\n",
       "      <td>Amazing Product, bass is amazing and easy to c...</td>\n",
       "      <td>4</td>\n",
       "    </tr>\n",
       "    <tr>\n",
       "      <th>1</th>\n",
       "      <td>Perfect product!</td>\n",
       "      <td>Worth it If you think to buy a tws then it is ...</td>\n",
       "      <td>5</td>\n",
       "    </tr>\n",
       "    <tr>\n",
       "      <th>2</th>\n",
       "      <td>Just okay</td>\n",
       "      <td>Good and well but still some batter time impro...</td>\n",
       "      <td>3</td>\n",
       "    </tr>\n",
       "    <tr>\n",
       "      <th>3</th>\n",
       "      <td>Not recommended at all</td>\n",
       "      <td>As they rightly say about Chinese Products: Ch...</td>\n",
       "      <td>1</td>\n",
       "    </tr>\n",
       "    <tr>\n",
       "      <th>4</th>\n",
       "      <td>Just okay</td>\n",
       "      <td>I am writing this review after using this prod...</td>\n",
       "      <td>3</td>\n",
       "    </tr>\n",
       "  </tbody>\n",
       "</table>\n",
       "</div>"
      ],
      "text/plain": [
       "            Header_review                                        review_text  \\\n",
       "0         Value-for-money  Amazing Product, bass is amazing and easy to c...   \n",
       "1        Perfect product!  Worth it If you think to buy a tws then it is ...   \n",
       "2               Just okay  Good and well but still some batter time impro...   \n",
       "3  Not recommended at all  As they rightly say about Chinese Products: Ch...   \n",
       "4               Just okay  I am writing this review after using this prod...   \n",
       "\n",
       "  rating  \n",
       "0      4  \n",
       "1      5  \n",
       "2      3  \n",
       "3      1  \n",
       "4      3  "
      ]
     },
     "execution_count": 14,
     "metadata": {},
     "output_type": "execute_result"
    }
   ],
   "source": [
    "df.head()"
   ]
  },
  {
   "cell_type": "code",
   "execution_count": 15,
   "id": "united-velvet",
   "metadata": {},
   "outputs": [
    {
     "data": {
      "text/plain": [
       "Header_review    0\n",
       "review_text      0\n",
       "rating           0\n",
       "dtype: int64"
      ]
     },
     "execution_count": 15,
     "metadata": {},
     "output_type": "execute_result"
    }
   ],
   "source": [
    "df.isna().sum()"
   ]
  },
  {
   "cell_type": "code",
   "execution_count": 21,
   "id": "stopped-discipline",
   "metadata": {},
   "outputs": [
    {
     "name": "stdout",
     "output_type": "stream",
     "text": [
      "<class 'pandas.core.frame.DataFrame'>\n",
      "RangeIndex: 9825 entries, 0 to 9824\n",
      "Data columns (total 3 columns):\n",
      " #   Column         Non-Null Count  Dtype \n",
      "---  ------         --------------  ----- \n",
      " 0   Header_review  9825 non-null   object\n",
      " 1   review_text    9825 non-null   object\n",
      " 2   rating         9825 non-null   object\n",
      "dtypes: object(3)\n",
      "memory usage: 230.4+ KB\n"
     ]
    }
   ],
   "source": [
    "df.info()"
   ]
  },
  {
   "cell_type": "code",
   "execution_count": 22,
   "id": "czech-pointer",
   "metadata": {},
   "outputs": [],
   "source": [
    "df.rating = df.rating.astype('float32')"
   ]
  },
  {
   "cell_type": "code",
   "execution_count": null,
   "id": "governmental-morocco",
   "metadata": {},
   "outputs": [],
   "source": [
    "df.to_csv('data.csv',index=False)"
   ]
  }
 ],
 "metadata": {
  "kernelspec": {
   "display_name": "Python 3",
   "language": "python",
   "name": "python3"
  },
  "language_info": {
   "codemirror_mode": {
    "name": "ipython",
    "version": 3
   },
   "file_extension": ".py",
   "mimetype": "text/x-python",
   "name": "python",
   "nbconvert_exporter": "python",
   "pygments_lexer": "ipython3",
   "version": "3.7.7"
  }
 },
 "nbformat": 4,
 "nbformat_minor": 5
}
