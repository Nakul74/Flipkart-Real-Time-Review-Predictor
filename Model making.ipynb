{
 "cells": [
  {
   "cell_type": "code",
   "execution_count": 1,
   "id": "f6da59c9",
   "metadata": {},
   "outputs": [],
   "source": [
    "#Importing the required libraries\n",
    "import pandas as pd\n",
    "import numpy as np\n",
    "import matplotlib.pyplot as plt\n",
    "import seaborn as sns\n",
    "import warnings\n",
    "warnings.filterwarnings(\"ignore\")"
   ]
  },
  {
   "cell_type": "code",
   "execution_count": 2,
   "id": "1a85ec43",
   "metadata": {},
   "outputs": [],
   "source": [
    "df=pd.read_csv(r\"data.csv\")"
   ]
  },
  {
   "cell_type": "code",
   "execution_count": 3,
   "id": "4f8c1649",
   "metadata": {},
   "outputs": [
    {
     "data": {
      "text/plain": [
       "(9825, 3)"
      ]
     },
     "execution_count": 3,
     "metadata": {},
     "output_type": "execute_result"
    }
   ],
   "source": [
    "df.shape"
   ]
  },
  {
   "cell_type": "code",
   "execution_count": 4,
   "id": "5a5738b3",
   "metadata": {},
   "outputs": [
    {
     "data": {
      "text/html": [
       "<div>\n",
       "<style scoped>\n",
       "    .dataframe tbody tr th:only-of-type {\n",
       "        vertical-align: middle;\n",
       "    }\n",
       "\n",
       "    .dataframe tbody tr th {\n",
       "        vertical-align: top;\n",
       "    }\n",
       "\n",
       "    .dataframe thead th {\n",
       "        text-align: right;\n",
       "    }\n",
       "</style>\n",
       "<table border=\"1\" class=\"dataframe\">\n",
       "  <thead>\n",
       "    <tr style=\"text-align: right;\">\n",
       "      <th></th>\n",
       "      <th>Header_review</th>\n",
       "      <th>review_text</th>\n",
       "      <th>rating</th>\n",
       "    </tr>\n",
       "  </thead>\n",
       "  <tbody>\n",
       "    <tr>\n",
       "      <th>0</th>\n",
       "      <td>Value-for-money</td>\n",
       "      <td>Amazing Product, bass is amazing and easy to c...</td>\n",
       "      <td>4.0</td>\n",
       "    </tr>\n",
       "    <tr>\n",
       "      <th>1</th>\n",
       "      <td>Perfect product!</td>\n",
       "      <td>Worth it If you think to buy a tws then it is ...</td>\n",
       "      <td>5.0</td>\n",
       "    </tr>\n",
       "    <tr>\n",
       "      <th>2</th>\n",
       "      <td>Just okay</td>\n",
       "      <td>Good and well but still some batter time impro...</td>\n",
       "      <td>3.0</td>\n",
       "    </tr>\n",
       "    <tr>\n",
       "      <th>3</th>\n",
       "      <td>Not recommended at all</td>\n",
       "      <td>As they rightly say about Chinese Products: Ch...</td>\n",
       "      <td>1.0</td>\n",
       "    </tr>\n",
       "    <tr>\n",
       "      <th>4</th>\n",
       "      <td>Just okay</td>\n",
       "      <td>I am writing this review after using this prod...</td>\n",
       "      <td>3.0</td>\n",
       "    </tr>\n",
       "  </tbody>\n",
       "</table>\n",
       "</div>"
      ],
      "text/plain": [
       "            Header_review                                        review_text  \\\n",
       "0         Value-for-money  Amazing Product, bass is amazing and easy to c...   \n",
       "1        Perfect product!  Worth it If you think to buy a tws then it is ...   \n",
       "2               Just okay  Good and well but still some batter time impro...   \n",
       "3  Not recommended at all  As they rightly say about Chinese Products: Ch...   \n",
       "4               Just okay  I am writing this review after using this prod...   \n",
       "\n",
       "   rating  \n",
       "0     4.0  \n",
       "1     5.0  \n",
       "2     3.0  \n",
       "3     1.0  \n",
       "4     3.0  "
      ]
     },
     "execution_count": 4,
     "metadata": {},
     "output_type": "execute_result"
    }
   ],
   "source": [
    "df.head()"
   ]
  },
  {
   "cell_type": "markdown",
   "id": "5d818ee3",
   "metadata": {},
   "source": [
    "<h3>Using only header review"
   ]
  },
  {
   "cell_type": "code",
   "execution_count": 5,
   "id": "ec7629ec",
   "metadata": {},
   "outputs": [
    {
     "data": {
      "text/html": [
       "<div>\n",
       "<style scoped>\n",
       "    .dataframe tbody tr th:only-of-type {\n",
       "        vertical-align: middle;\n",
       "    }\n",
       "\n",
       "    .dataframe tbody tr th {\n",
       "        vertical-align: top;\n",
       "    }\n",
       "\n",
       "    .dataframe thead th {\n",
       "        text-align: right;\n",
       "    }\n",
       "</style>\n",
       "<table border=\"1\" class=\"dataframe\">\n",
       "  <thead>\n",
       "    <tr style=\"text-align: right;\">\n",
       "      <th></th>\n",
       "      <th>Header_review</th>\n",
       "      <th>rating</th>\n",
       "    </tr>\n",
       "  </thead>\n",
       "  <tbody>\n",
       "    <tr>\n",
       "      <th>0</th>\n",
       "      <td>Value-for-money</td>\n",
       "      <td>4.0</td>\n",
       "    </tr>\n",
       "    <tr>\n",
       "      <th>1</th>\n",
       "      <td>Perfect product!</td>\n",
       "      <td>5.0</td>\n",
       "    </tr>\n",
       "    <tr>\n",
       "      <th>2</th>\n",
       "      <td>Just okay</td>\n",
       "      <td>3.0</td>\n",
       "    </tr>\n",
       "    <tr>\n",
       "      <th>3</th>\n",
       "      <td>Not recommended at all</td>\n",
       "      <td>1.0</td>\n",
       "    </tr>\n",
       "    <tr>\n",
       "      <th>4</th>\n",
       "      <td>Just okay</td>\n",
       "      <td>3.0</td>\n",
       "    </tr>\n",
       "  </tbody>\n",
       "</table>\n",
       "</div>"
      ],
      "text/plain": [
       "            Header_review  rating\n",
       "0         Value-for-money     4.0\n",
       "1        Perfect product!     5.0\n",
       "2               Just okay     3.0\n",
       "3  Not recommended at all     1.0\n",
       "4               Just okay     3.0"
      ]
     },
     "execution_count": 5,
     "metadata": {},
     "output_type": "execute_result"
    }
   ],
   "source": [
    "df = df[['Header_review','rating']]\n",
    "df.head()"
   ]
  },
  {
   "cell_type": "code",
   "execution_count": 6,
   "id": "069e3ed6",
   "metadata": {},
   "outputs": [],
   "source": [
    "def preprocess_text(s):\n",
    "    l=[]\n",
    "    for i in s:\n",
    "        if (i.isalnum()) or (i==' '):\n",
    "            l.append(i.lower())\n",
    "        else:\n",
    "            l.append(' ')\n",
    "    return ''.join(l).strip()"
   ]
  },
  {
   "cell_type": "code",
   "execution_count": 7,
   "id": "1b3366cb",
   "metadata": {},
   "outputs": [
    {
     "name": "stdout",
     "output_type": "stream",
     "text": [
      "value for money\n"
     ]
    }
   ],
   "source": [
    "print(preprocess_text('Value-for-money'))"
   ]
  },
  {
   "cell_type": "code",
   "execution_count": 8,
   "id": "9e3bd5a6",
   "metadata": {},
   "outputs": [],
   "source": [
    "df['Header_review'] = df['Header_review'].apply(lambda x : preprocess_text(x))"
   ]
  },
  {
   "cell_type": "code",
   "execution_count": 9,
   "id": "ff0beacb",
   "metadata": {},
   "outputs": [
    {
     "data": {
      "text/html": [
       "<div>\n",
       "<style scoped>\n",
       "    .dataframe tbody tr th:only-of-type {\n",
       "        vertical-align: middle;\n",
       "    }\n",
       "\n",
       "    .dataframe tbody tr th {\n",
       "        vertical-align: top;\n",
       "    }\n",
       "\n",
       "    .dataframe thead th {\n",
       "        text-align: right;\n",
       "    }\n",
       "</style>\n",
       "<table border=\"1\" class=\"dataframe\">\n",
       "  <thead>\n",
       "    <tr style=\"text-align: right;\">\n",
       "      <th></th>\n",
       "      <th>Header_review</th>\n",
       "      <th>rating</th>\n",
       "    </tr>\n",
       "  </thead>\n",
       "  <tbody>\n",
       "    <tr>\n",
       "      <th>0</th>\n",
       "      <td>value for money</td>\n",
       "      <td>4.0</td>\n",
       "    </tr>\n",
       "    <tr>\n",
       "      <th>1</th>\n",
       "      <td>perfect product</td>\n",
       "      <td>5.0</td>\n",
       "    </tr>\n",
       "    <tr>\n",
       "      <th>2</th>\n",
       "      <td>just okay</td>\n",
       "      <td>3.0</td>\n",
       "    </tr>\n",
       "    <tr>\n",
       "      <th>3</th>\n",
       "      <td>not recommended at all</td>\n",
       "      <td>1.0</td>\n",
       "    </tr>\n",
       "    <tr>\n",
       "      <th>4</th>\n",
       "      <td>just okay</td>\n",
       "      <td>3.0</td>\n",
       "    </tr>\n",
       "  </tbody>\n",
       "</table>\n",
       "</div>"
      ],
      "text/plain": [
       "            Header_review  rating\n",
       "0         value for money     4.0\n",
       "1         perfect product     5.0\n",
       "2               just okay     3.0\n",
       "3  not recommended at all     1.0\n",
       "4               just okay     3.0"
      ]
     },
     "execution_count": 9,
     "metadata": {},
     "output_type": "execute_result"
    }
   ],
   "source": [
    "df.head()"
   ]
  },
  {
   "cell_type": "code",
   "execution_count": 10,
   "id": "d345325e",
   "metadata": {},
   "outputs": [
    {
     "data": {
      "text/plain": [
       "5.0    5000\n",
       "4.0    2245\n",
       "1.0    1188\n",
       "3.0     966\n",
       "2.0     426\n",
       "Name: rating, dtype: int64"
      ]
     },
     "execution_count": 10,
     "metadata": {},
     "output_type": "execute_result"
    }
   ],
   "source": [
    "df.rating.value_counts()"
   ]
  },
  {
   "cell_type": "code",
   "execution_count": 11,
   "id": "834fdc88",
   "metadata": {},
   "outputs": [],
   "source": [
    "X=df.iloc[:,df.columns !='rating']\n",
    "y=df.iloc[:,df.columns =='rating']"
   ]
  },
  {
   "cell_type": "code",
   "execution_count": 12,
   "id": "74438bd3",
   "metadata": {},
   "outputs": [],
   "source": [
    "from sklearn.model_selection import train_test_split\n",
    "from sklearn.feature_extraction.text import TfidfVectorizer\n",
    "\n",
    "import time\n",
    "from sklearn.naive_bayes import MultinomialNB\n",
    "from sklearn.linear_model import LogisticRegression\n",
    "import scikitplot as skplt\n",
    "from sklearn.metrics import classification_report,confusion_matrix,balanced_accuracy_score,log_loss\n"
   ]
  },
  {
   "cell_type": "code",
   "execution_count": 13,
   "id": "dc56ef95",
   "metadata": {},
   "outputs": [],
   "source": [
    "X_train,X_test,y_train,y_test=train_test_split(X,y,stratify=y,test_size=0.25,random_state=101)"
   ]
  },
  {
   "cell_type": "code",
   "execution_count": 14,
   "id": "bc68d9fa",
   "metadata": {},
   "outputs": [
    {
     "data": {
      "text/plain": [
       "((7368, 1), (2457, 1))"
      ]
     },
     "execution_count": 14,
     "metadata": {},
     "output_type": "execute_result"
    }
   ],
   "source": [
    "X_train.shape,X_test.shape"
   ]
  },
  {
   "cell_type": "code",
   "execution_count": 15,
   "id": "72fc2ecb",
   "metadata": {},
   "outputs": [],
   "source": [
    "from sklearn.feature_extraction.text import TfidfVectorizer\n",
    "vectorizer = TfidfVectorizer(lowercase=False)\n",
    "X_train = vectorizer.fit_transform(X_train.values.ravel())\n",
    "X_test = vectorizer.transform(X_test.values.ravel())"
   ]
  },
  {
   "cell_type": "code",
   "execution_count": 16,
   "id": "0c5eb70f",
   "metadata": {},
   "outputs": [
    {
     "data": {
      "text/plain": [
       "((7368, 103), (2457, 103))"
      ]
     },
     "execution_count": 16,
     "metadata": {},
     "output_type": "execute_result"
    }
   ],
   "source": [
    "X_train.shape,X_test.shape"
   ]
  },
  {
   "cell_type": "markdown",
   "id": "94187798",
   "metadata": {},
   "source": [
    "<h5>Without class balancing"
   ]
  },
  {
   "cell_type": "code",
   "execution_count": 17,
   "id": "dd5ab1be",
   "metadata": {},
   "outputs": [],
   "source": [
    "label = [1,2,3,4,5]"
   ]
  },
  {
   "cell_type": "code",
   "execution_count": 18,
   "id": "0fd48f80",
   "metadata": {},
   "outputs": [
    {
     "name": "stdout",
     "output_type": "stream",
     "text": [
      "Results for Multinomial naive bayes:-\n",
      "\n",
      "Training time(sec) =  0.007999897003173828\n",
      "Prediction time(sec) =  0.0\n",
      "\n",
      "\n",
      "Training score =  0.9154099698654209\n",
      "Tesing score =  0.910101753362502\n",
      "\n",
      "\n",
      "No of missclassified for class 1 (test data) = 0 \n",
      "No of missclassified for class 2 (test data) = 0 \n",
      "No of missclassified for class 3 (test data) = 78 \n",
      "No of missclassified for class 4 (test data) = 70 \n",
      "No of missclassified for class 5 (test data) = 3 \n",
      "Total no of missclassified points(test data) =  151\n",
      "Total % of missclassified points(test data) =  0.06145706145706146\n",
      "\n",
      "\n",
      "Training log_loss =  0.12154791118208638\n",
      "Tesing log_loss =  0.1254977542635846\n",
      "\n",
      "\n",
      "Confusion matrix:\n"
     ]
    },
    {
     "data": {
      "image/png": "[encoded data removed]",
      "text/plain": [
       "<Figure size 432x288 with 2 Axes>"
      ]
     },
     "metadata": {
      "needs_background": "light"
     },
     "output_type": "display_data"
    },
    {
     "name": "stdout",
     "output_type": "stream",
     "text": [
      "\n",
      "\n",
      "Classification report:-\n",
      "\n",
      "              precision    recall  f1-score   support\n",
      "\n",
      "         1.0       1.00      1.00      1.00       297\n",
      "         2.0       1.00      1.00      1.00       107\n",
      "         3.0       1.00      0.68      0.81       242\n",
      "         4.0       0.86      0.88      0.87       561\n",
      "         5.0       0.95      1.00      0.97      1250\n",
      "\n",
      "    accuracy                           0.94      2457\n",
      "   macro avg       0.96      0.91      0.93      2457\n",
      "weighted avg       0.94      0.94      0.94      2457\n",
      "\n",
      "**************************************************************************\n"
     ]
    }
   ],
   "source": [
    "mnb = MultinomialNB(fit_prior = True)\n",
    "\n",
    "print('Results for Multinomial naive bayes:-\\n')\n",
    "start_time = time.time()\n",
    "mnb.fit(X_train,y_train)\n",
    "mnb_time = (time.time() - start_time)\n",
    "print('Training time(sec) = ',mnb_time)\n",
    "\n",
    "y_pred1 = mnb.predict(X_train)\n",
    "\n",
    "start_time = time.time()\n",
    "y_pred = mnb.predict(X_test)\n",
    "mnb_time2 = (time.time() - start_time)\n",
    "print('Prediction time(sec) = ',mnb_time2)\n",
    "\n",
    "y_pred_prob1 = mnb.predict_proba(X_train)\n",
    "y_pred_prob = mnb.predict_proba(X_test)\n",
    "\n",
    "cm_mnb = confusion_matrix(y_test, y_pred)\n",
    "mnb_miss = np.sum(y_pred!=y_test.values.ravel())\n",
    "acc1_mnb = balanced_accuracy_score(y_train,y_pred1)\n",
    "acc2_mnb = balanced_accuracy_score(y_test,y_pred)\n",
    "loss1_mnb = log_loss(y_train,y_pred_prob1)\n",
    "loss2_mnb = log_loss(y_test,y_pred_prob)\n",
    "\n",
    "print('\\n\\nTraining score = ',acc1_mnb)\n",
    "print('Tesing score = ',acc2_mnb)\n",
    "print('\\n')\n",
    "\n",
    "for i in range(len(y_train['rating'].unique())):\n",
    "    err = np.sum(cm_mnb[i])-cm_mnb[i][i]\n",
    "    print('No of missclassified for class {} (test data) = {} '.format(label[i],err))\n",
    "print('Total no of missclassified points(test data) = ',mnb_miss)\n",
    "print('Total % of missclassified points(test data) = ',mnb_miss/len(y_test))\n",
    "\n",
    "print('\\n\\nTraining log_loss = ',loss1_mnb)\n",
    "print('Tesing log_loss = ',loss2_mnb)\n",
    "print('\\n\\nConfusion matrix:')\n",
    "skplt.metrics.plot_confusion_matrix(y_test, y_pred)\n",
    "plt.show()\n",
    "print('\\n\\nClassification report:-\\n')\n",
    "print(classification_report(y_test,y_pred))\n",
    "print('**************************************************************************')\n",
    "\n",
    "MNB = [acc1_mnb,acc2_mnb,mnb_miss,mnb_miss/len(y_test),loss1_mnb,loss2_mnb,mnb_time,mnb_time2]"
   ]
  },
  {
   "cell_type": "code",
   "execution_count": 19,
   "id": "21aee147",
   "metadata": {},
   "outputs": [
    {
     "name": "stdout",
     "output_type": "stream",
     "text": [
      "Results for Logistic regression:-\n",
      "\n",
      "Training time(sec) =  4.663540601730347\n",
      "Prediction time(sec) =  0.0\n",
      "\n",
      "\n",
      "Training score =  0.9777066405326357\n",
      "Tesing score =  0.9743680570409982\n",
      "\n",
      "\n",
      "No of missclassified for class 1 (test data) = 0 \n",
      "No of missclassified for class 2 (test data) = 0 \n",
      "No of missclassified for class 3 (test data) = 0 \n",
      "No of missclassified for class 4 (test data) = 71 \n",
      "No of missclassified for class 5 (test data) = 2 \n",
      "Total no of missclassified points(test data) =  73\n",
      "Total % of missclassified points(test data) =  0.02971102971102971\n",
      "\n",
      "\n",
      "Training log_loss =  0.07614051437714321\n",
      "Tesing log_loss =  0.08027761365771544\n",
      "\n",
      "\n",
      "Confusion matrix:\n"
     ]
    },
    {
     "data": {
      "image/png": "[encoded data removed]",
      "text/plain": [
       "<Figure size 432x288 with 2 Axes>"
      ]
     },
     "metadata": {
      "needs_background": "light"
     },
     "output_type": "display_data"
    },
    {
     "name": "stdout",
     "output_type": "stream",
     "text": [
      "\n",
      "\n",
      "Classification report:-\n",
      "\n",
      "              precision    recall  f1-score   support\n",
      "\n",
      "         1.0       1.00      1.00      1.00       297\n",
      "         2.0       1.00      1.00      1.00       107\n",
      "         3.0       1.00      1.00      1.00       242\n",
      "         4.0       1.00      0.87      0.93       561\n",
      "         5.0       0.95      1.00      0.97      1250\n",
      "\n",
      "    accuracy                           0.97      2457\n",
      "   macro avg       0.99      0.97      0.98      2457\n",
      "weighted avg       0.97      0.97      0.97      2457\n",
      "\n",
      "**************************************************************************\n"
     ]
    }
   ],
   "source": [
    "lr=LogisticRegression(n_jobs=-1)\n",
    "\n",
    "print('Results for Logistic regression:-\\n')\n",
    "start_time = time.time()\n",
    "lr.fit(X_train,y_train)\n",
    "lr_time = (time.time() - start_time)\n",
    "print('Training time(sec) = ',lr_time)\n",
    "\n",
    "y_pred1 = lr.predict(X_train)\n",
    "\n",
    "start_time = time.time()\n",
    "y_pred = lr.predict(X_test)\n",
    "lr_time2 = (time.time() - start_time)\n",
    "print('Prediction time(sec) = ',lr_time2)\n",
    "\n",
    "y_pred_prob1 =lr.predict_proba(X_train)\n",
    "y_pred_prob=lr.predict_proba(X_test)\n",
    "\n",
    "cm_lr = confusion_matrix(y_test, y_pred)\n",
    "lr_miss = np.sum(y_pred!=y_test.values.ravel())\n",
    "acc1_lr = balanced_accuracy_score(y_train,y_pred1)\n",
    "acc2_lr = balanced_accuracy_score(y_test,y_pred)\n",
    "loss1_lr = log_loss(y_train,y_pred_prob1)\n",
    "loss2_lr = log_loss(y_test,y_pred_prob)\n",
    "\n",
    "print('\\n\\nTraining score = ',acc1_lr)\n",
    "print('Tesing score = ',acc2_lr)\n",
    "print('\\n')\n",
    "\n",
    "for i in range(len(y_train['rating'].unique())):\n",
    "    err = np.sum(cm_lr[i])-cm_lr[i][i]\n",
    "    print('No of missclassified for class {} (test data) = {} '.format(label[i],err))\n",
    "    \n",
    "print('Total no of missclassified points(test data) = ',lr_miss)\n",
    "print('Total % of missclassified points(test data) = ',lr_miss/len(y_test))\n",
    "print('\\n\\nTraining log_loss = ',loss1_lr)\n",
    "print('Tesing log_loss = ',loss2_lr)\n",
    "print('\\n\\nConfusion matrix:')\n",
    "skplt.metrics.plot_confusion_matrix(y_test, y_pred)\n",
    "plt.show()\n",
    "print('\\n\\nClassification report:-\\n')\n",
    "print(classification_report(y_test,y_pred))\n",
    "print('**************************************************************************')\n",
    "\n",
    "LR = [acc1_lr,acc2_lr,lr_miss,lr_miss/len(y_test),loss1_lr,loss2_lr,lr_time,lr_time2]"
   ]
  },
  {
   "cell_type": "code",
   "execution_count": 20,
   "id": "6aada277",
   "metadata": {},
   "outputs": [
    {
     "name": "stdout",
     "output_type": "stream",
     "text": [
      "Results for Support vector Classification:-\n",
      "\n",
      "Training time(sec) =  0.22385692596435547\n",
      "Prediction time(sec) =  0.05187797546386719\n",
      "\n",
      "\n",
      "Training score =  0.9791105528592634\n",
      "Tesing score =  0.9736946563675974\n",
      "\n",
      "\n",
      "No of missclassified for class 1 (test data) = 1 \n",
      "No of missclassified for class 2 (test data) = 0 \n",
      "No of missclassified for class 3 (test data) = 0 \n",
      "No of missclassified for class 4 (test data) = 71 \n",
      "No of missclassified for class 5 (test data) = 2 \n",
      "Total no of missclassified points(test data) =  74\n",
      "Total % of missclassified points(test data) =  0.030118030118030117\n",
      "\n",
      "\n",
      "Training log_loss =  0.07614051437714321\n",
      "Tesing log_loss =  0.08027761365771544\n",
      "\n",
      "\n",
      "Confusion matrix:\n"
     ]
    },
    {
     "data": {
      "image/png": "[encoded data removed]",
      "text/plain": [
       "<Figure size 432x288 with 2 Axes>"
      ]
     },
     "metadata": {
      "needs_background": "light"
     },
     "output_type": "display_data"
    },
    {
     "name": "stdout",
     "output_type": "stream",
     "text": [
      "\n",
      "\n",
      "Classification report:-\n",
      "\n",
      "              precision    recall  f1-score   support\n",
      "\n",
      "         1.0       1.00      1.00      1.00       297\n",
      "         2.0       1.00      1.00      1.00       107\n",
      "         3.0       1.00      1.00      1.00       242\n",
      "         4.0       1.00      0.87      0.93       561\n",
      "         5.0       0.95      1.00      0.97      1250\n",
      "\n",
      "    accuracy                           0.97      2457\n",
      "   macro avg       0.99      0.97      0.98      2457\n",
      "weighted avg       0.97      0.97      0.97      2457\n",
      "\n",
      "**************************************************************************\n"
     ]
    }
   ],
   "source": [
    "from sklearn.svm import SVC\n",
    "svc=SVC()\n",
    "\n",
    "print('Results for Support vector Classification:-\\n')\n",
    "start_time = time.time()\n",
    "svc.fit(X_train,y_train)\n",
    "svc_time = (time.time() - start_time)\n",
    "print('Training time(sec) = ',svc_time)\n",
    "\n",
    "y_pred1 = svc.predict(X_train)\n",
    "\n",
    "start_time = time.time()\n",
    "y_pred = svc.predict(X_test)\n",
    "svc_time2 = (time.time() - start_time)\n",
    "print('Prediction time(sec) = ',svc_time2)\n",
    "\n",
    "# y_pred_prob1 =svc.predict_proba(X_train)\n",
    "# y_pred_prob=svc.predict_proba(X_test)\n",
    "\n",
    "cm_svc = confusion_matrix(y_test, y_pred)\n",
    "svc_miss = np.sum(y_pred!=y_test.values.ravel())\n",
    "acc1_svc = balanced_accuracy_score(y_train,y_pred1)\n",
    "acc2_svc = balanced_accuracy_score(y_test,y_pred)\n",
    "loss1_svc = log_loss(y_train,y_pred_prob1)\n",
    "loss2_svc = log_loss(y_test,y_pred_prob)\n",
    "\n",
    "print('\\n\\nTraining score = ',acc1_svc)\n",
    "print('Tesing score = ',acc2_svc)\n",
    "print('\\n')\n",
    "\n",
    "for i in range(len(y_train['rating'].unique())):\n",
    "    err = np.sum(cm_svc[i])-cm_svc[i][i]\n",
    "    print('No of missclassified for class {} (test data) = {} '.format(label[i],err))\n",
    "    \n",
    "print('Total no of missclassified points(test data) = ',svc_miss)\n",
    "print('Total % of missclassified points(test data) = ',svc_miss/len(y_test))\n",
    "print('\\n\\nTraining log_loss = ',loss1_svc)\n",
    "print('Tesing log_loss = ',loss2_svc)\n",
    "print('\\n\\nConfusion matrix:')\n",
    "skplt.metrics.plot_confusion_matrix(y_test, y_pred)\n",
    "plt.show()\n",
    "print('\\n\\nClassification report:-\\n')\n",
    "print(classification_report(y_test,y_pred))\n",
    "print('**************************************************************************')\n",
    "\n",
    "SVC = [acc1_svc,acc2_svc,svc_miss,svc_miss/len(y_test),loss1_svc,loss2_svc,svc_time,svc_time2]"
   ]
  },
  {
   "cell_type": "code",
   "execution_count": 21,
   "id": "c4efb533",
   "metadata": {},
   "outputs": [],
   "source": [
    "s1=[MNB,LR,SVC]\n",
    "s2=['MNB','LR','SVC']\n",
    "col=['Train score','Test score','Missclassified-point','% missclasification','Train log-loss','Test log-loss','Training time','Prediction time']\n",
    "result=dict.fromkeys(s2,None)\n",
    "\n",
    "for i in range(len(s1)):\n",
    "    result[s2[i]] = s1[i]"
   ]
  },
  {
   "cell_type": "code",
   "execution_count": 22,
   "id": "8c7cce00",
   "metadata": {},
   "outputs": [],
   "source": [
    "temp = pd.DataFrame.from_dict(result, orient='index',columns=col).reset_index()\n",
    "result = temp.rename(columns={'index':'Classifiers'})"
   ]
  },
  {
   "cell_type": "code",
   "execution_count": 23,
   "id": "7e21d0ee",
   "metadata": {},
   "outputs": [
    {
     "data": {
      "text/html": [
       "<div>\n",
       "<style scoped>\n",
       "    .dataframe tbody tr th:only-of-type {\n",
       "        vertical-align: middle;\n",
       "    }\n",
       "\n",
       "    .dataframe tbody tr th {\n",
       "        vertical-align: top;\n",
       "    }\n",
       "\n",
       "    .dataframe thead th {\n",
       "        text-align: right;\n",
       "    }\n",
       "</style>\n",
       "<table border=\"1\" class=\"dataframe\">\n",
       "  <thead>\n",
       "    <tr style=\"text-align: right;\">\n",
       "      <th></th>\n",
       "      <th>Classifiers</th>\n",
       "      <th>Train score</th>\n",
       "      <th>Test score</th>\n",
       "      <th>Missclassified-point</th>\n",
       "      <th>% missclasification</th>\n",
       "      <th>Train log-loss</th>\n",
       "      <th>Test log-loss</th>\n",
       "      <th>Training time</th>\n",
       "      <th>Prediction time</th>\n",
       "    </tr>\n",
       "  </thead>\n",
       "  <tbody>\n",
       "    <tr>\n",
       "      <th>0</th>\n",
       "      <td>MNB</td>\n",
       "      <td>0.915410</td>\n",
       "      <td>0.910102</td>\n",
       "      <td>151</td>\n",
       "      <td>0.061457</td>\n",
       "      <td>0.121548</td>\n",
       "      <td>0.125498</td>\n",
       "      <td>0.008000</td>\n",
       "      <td>0.000000</td>\n",
       "    </tr>\n",
       "    <tr>\n",
       "      <th>1</th>\n",
       "      <td>LR</td>\n",
       "      <td>0.977707</td>\n",
       "      <td>0.974368</td>\n",
       "      <td>73</td>\n",
       "      <td>0.029711</td>\n",
       "      <td>0.076141</td>\n",
       "      <td>0.080278</td>\n",
       "      <td>4.663541</td>\n",
       "      <td>0.000000</td>\n",
       "    </tr>\n",
       "    <tr>\n",
       "      <th>2</th>\n",
       "      <td>SVC</td>\n",
       "      <td>0.979111</td>\n",
       "      <td>0.973695</td>\n",
       "      <td>74</td>\n",
       "      <td>0.030118</td>\n",
       "      <td>0.076141</td>\n",
       "      <td>0.080278</td>\n",
       "      <td>0.223857</td>\n",
       "      <td>0.051878</td>\n",
       "    </tr>\n",
       "  </tbody>\n",
       "</table>\n",
       "</div>"
      ],
      "text/plain": [
       "  Classifiers  Train score  Test score  Missclassified-point  \\\n",
       "0         MNB     0.915410    0.910102                   151   \n",
       "1          LR     0.977707    0.974368                    73   \n",
       "2         SVC     0.979111    0.973695                    74   \n",
       "\n",
       "   % missclasification  Train log-loss  Test log-loss  Training time  \\\n",
       "0             0.061457        0.121548       0.125498       0.008000   \n",
       "1             0.029711        0.076141       0.080278       4.663541   \n",
       "2             0.030118        0.076141       0.080278       0.223857   \n",
       "\n",
       "   Prediction time  \n",
       "0         0.000000  \n",
       "1         0.000000  \n",
       "2         0.051878  "
      ]
     },
     "execution_count": 23,
     "metadata": {},
     "output_type": "execute_result"
    }
   ],
   "source": [
    "result"
   ]
  },
  {
   "cell_type": "markdown",
   "id": "2c537f42",
   "metadata": {},
   "source": [
    "<h3>With class weight balanced"
   ]
  },
  {
   "cell_type": "code",
   "execution_count": 24,
   "id": "f2aa1403",
   "metadata": {},
   "outputs": [
    {
     "name": "stdout",
     "output_type": "stream",
     "text": [
      "Results for Multinomial naive bayes:-\n",
      "\n",
      "Training time(sec) =  0.007745265960693359\n",
      "Prediction time(sec) =  0.0\n",
      "\n",
      "\n",
      "Training score =  0.9224220244753777\n",
      "Tesing score =  0.922947671366067\n",
      "\n",
      "\n",
      "No of missclassified for class 1 (test data) = 0 \n",
      "No of missclassified for class 2 (test data) = 0 \n",
      "No of missclassified for class 3 (test data) = 78 \n",
      "No of missclassified for class 4 (test data) = 3 \n",
      "No of missclassified for class 5 (test data) = 72 \n",
      "Total no of missclassified points(test data) =  153\n",
      "Total % of missclassified points(test data) =  0.06227106227106227\n",
      "\n",
      "\n",
      "Training log_loss =  0.1558415224715807\n",
      "Tesing log_loss =  0.15225737574136583\n",
      "\n",
      "\n",
      "Confusion matrix:\n"
     ]
    },
    {
     "data": {
      "image/png": "[encoded data removed]",
      "text/plain": [
       "<Figure size 432x288 with 2 Axes>"
      ]
     },
     "metadata": {
      "needs_background": "light"
     },
     "output_type": "display_data"
    },
    {
     "name": "stdout",
     "output_type": "stream",
     "text": [
      "\n",
      "\n",
      "Classification report:-\n",
      "\n",
      "              precision    recall  f1-score   support\n",
      "\n",
      "         1.0       0.99      1.00      1.00       297\n",
      "         2.0       0.97      1.00      0.99       107\n",
      "         3.0       1.00      0.68      0.81       242\n",
      "         4.0       0.79      0.99      0.88       561\n",
      "         5.0       1.00      0.94      0.97      1250\n",
      "\n",
      "    accuracy                           0.94      2457\n",
      "   macro avg       0.95      0.92      0.93      2457\n",
      "weighted avg       0.95      0.94      0.94      2457\n",
      "\n",
      "**************************************************************************\n"
     ]
    }
   ],
   "source": [
    "#Fit prior is set to false since data is not balanced\n",
    "mnb = MultinomialNB(fit_prior = False)\n",
    "\n",
    "print('Results for Multinomial naive bayes:-\\n')\n",
    "start_time = time.time()\n",
    "mnb.fit(X_train,y_train)\n",
    "mnb_time = (time.time() - start_time)\n",
    "print('Training time(sec) = ',mnb_time)\n",
    "\n",
    "y_pred1 = mnb.predict(X_train)\n",
    "\n",
    "start_time = time.time()\n",
    "y_pred = mnb.predict(X_test)\n",
    "mnb_time2 = (time.time() - start_time)\n",
    "print('Prediction time(sec) = ',mnb_time2)\n",
    "\n",
    "y_pred_prob1 = mnb.predict_proba(X_train)\n",
    "y_pred_prob = mnb.predict_proba(X_test)\n",
    "\n",
    "cm_mnb = confusion_matrix(y_test, y_pred)\n",
    "mnb_miss = np.sum(y_pred!=y_test.values.ravel())\n",
    "acc1_mnb = balanced_accuracy_score(y_train,y_pred1)\n",
    "acc2_mnb = balanced_accuracy_score(y_test,y_pred)\n",
    "loss1_mnb = log_loss(y_train,y_pred_prob1)\n",
    "loss2_mnb = log_loss(y_test,y_pred_prob)\n",
    "\n",
    "print('\\n\\nTraining score = ',acc1_mnb)\n",
    "print('Tesing score = ',acc2_mnb)\n",
    "print('\\n')\n",
    "\n",
    "for i in range(len(y_train['rating'].unique())):\n",
    "    err = np.sum(cm_mnb[i])-cm_mnb[i][i]\n",
    "    print('No of missclassified for class {} (test data) = {} '.format(label[i],err))\n",
    "print('Total no of missclassified points(test data) = ',mnb_miss)\n",
    "print('Total % of missclassified points(test data) = ',mnb_miss/len(y_test))\n",
    "\n",
    "print('\\n\\nTraining log_loss = ',loss1_mnb)\n",
    "print('Tesing log_loss = ',loss2_mnb)\n",
    "print('\\n\\nConfusion matrix:')\n",
    "skplt.metrics.plot_confusion_matrix(y_test, y_pred)\n",
    "plt.show()\n",
    "print('\\n\\nClassification report:-\\n')\n",
    "print(classification_report(y_test,y_pred))\n",
    "print('**************************************************************************')\n",
    "\n",
    "MNB = [acc1_mnb,acc2_mnb,mnb_miss,mnb_miss/len(y_test),loss1_mnb,loss2_mnb,mnb_time,mnb_time2]"
   ]
  },
  {
   "cell_type": "code",
   "execution_count": 25,
   "id": "cddfe604",
   "metadata": {},
   "outputs": [
    {
     "name": "stdout",
     "output_type": "stream",
     "text": [
      "Results for Logistic regression:-\n",
      "\n",
      "Training time(sec) =  3.2320268154144287\n",
      "Prediction time(sec) =  0.0\n",
      "\n",
      "\n",
      "Training score =  0.9862388505631431\n",
      "Tesing score =  0.9875704812834225\n",
      "\n",
      "\n",
      "No of missclassified for class 1 (test data) = 0 \n",
      "No of missclassified for class 2 (test data) = 0 \n",
      "No of missclassified for class 3 (test data) = 0 \n",
      "No of missclassified for class 4 (test data) = 3 \n",
      "No of missclassified for class 5 (test data) = 71 \n",
      "Total no of missclassified points(test data) =  74\n",
      "Total % of missclassified points(test data) =  0.030118030118030117\n",
      "\n",
      "\n",
      "Training log_loss =  0.08370039869102008\n",
      "Tesing log_loss =  0.08411585240641427\n",
      "\n",
      "\n",
      "Confusion matrix:\n"
     ]
    },
    {
     "data": {
      "image/png": "[encoded data removed]",
      "text/plain": [
       "<Figure size 432x288 with 2 Axes>"
      ]
     },
     "metadata": {
      "needs_background": "light"
     },
     "output_type": "display_data"
    },
    {
     "name": "stdout",
     "output_type": "stream",
     "text": [
      "\n",
      "\n",
      "Classification report:-\n",
      "\n",
      "              precision    recall  f1-score   support\n",
      "\n",
      "         1.0       1.00      1.00      1.00       297\n",
      "         2.0       1.00      1.00      1.00       107\n",
      "         3.0       1.00      1.00      1.00       242\n",
      "         4.0       0.89      0.99      0.94       561\n",
      "         5.0       1.00      0.94      0.97      1250\n",
      "\n",
      "    accuracy                           0.97      2457\n",
      "   macro avg       0.98      0.99      0.98      2457\n",
      "weighted avg       0.97      0.97      0.97      2457\n",
      "\n",
      "**************************************************************************\n"
     ]
    }
   ],
   "source": [
    "lr=LogisticRegression(class_weight='balanced', n_jobs=-1)\n",
    "\n",
    "print('Results for Logistic regression:-\\n')\n",
    "start_time = time.time()\n",
    "lr.fit(X_train,y_train)\n",
    "lr_time = (time.time() - start_time)\n",
    "print('Training time(sec) = ',lr_time)\n",
    "\n",
    "y_pred1 = lr.predict(X_train)\n",
    "\n",
    "start_time = time.time()\n",
    "y_pred = lr.predict(X_test)\n",
    "lr_time2 = (time.time() - start_time)\n",
    "print('Prediction time(sec) = ',lr_time2)\n",
    "\n",
    "y_pred_prob1 =lr.predict_proba(X_train)\n",
    "y_pred_prob=lr.predict_proba(X_test)\n",
    "\n",
    "cm_lr = confusion_matrix(y_test, y_pred)\n",
    "lr_miss = np.sum(y_pred!=y_test.values.ravel())\n",
    "acc1_lr = balanced_accuracy_score(y_train,y_pred1)\n",
    "acc2_lr = balanced_accuracy_score(y_test,y_pred)\n",
    "loss1_lr = log_loss(y_train,y_pred_prob1)\n",
    "loss2_lr = log_loss(y_test,y_pred_prob)\n",
    "\n",
    "print('\\n\\nTraining score = ',acc1_lr)\n",
    "print('Tesing score = ',acc2_lr)\n",
    "print('\\n')\n",
    "\n",
    "for i in range(len(y_train['rating'].unique())):\n",
    "    err = np.sum(cm_lr[i])-cm_lr[i][i]\n",
    "    print('No of missclassified for class {} (test data) = {} '.format(label[i],err))\n",
    "    \n",
    "print('Total no of missclassified points(test data) = ',lr_miss)\n",
    "print('Total % of missclassified points(test data) = ',lr_miss/len(y_test))\n",
    "print('\\n\\nTraining log_loss = ',loss1_lr)\n",
    "print('Tesing log_loss = ',loss2_lr)\n",
    "print('\\n\\nConfusion matrix:')\n",
    "skplt.metrics.plot_confusion_matrix(y_test, y_pred)\n",
    "plt.show()\n",
    "print('\\n\\nClassification report:-\\n')\n",
    "print(classification_report(y_test,y_pred))\n",
    "print('**************************************************************************')\n",
    "\n",
    "LR = [acc1_lr,acc2_lr,lr_miss,lr_miss/len(y_test),loss1_lr,loss2_lr,lr_time,lr_time2]"
   ]
  },
  {
   "cell_type": "code",
   "execution_count": 26,
   "id": "d42e3b9f",
   "metadata": {},
   "outputs": [
    {
     "name": "stdout",
     "output_type": "stream",
     "text": [
      "Results for Support vector Classification:-\n",
      "\n",
      "Training time(sec) =  0.28479790687561035\n",
      "Prediction time(sec) =  0.06244659423828125\n",
      "\n",
      "\n",
      "Training score =  0.9864521838964764\n",
      "Tesing score =  0.9877304812834226\n",
      "\n",
      "\n",
      "No of missclassified for class 1 (test data) = 0 \n",
      "No of missclassified for class 2 (test data) = 0 \n",
      "No of missclassified for class 3 (test data) = 0 \n",
      "No of missclassified for class 4 (test data) = 3 \n",
      "No of missclassified for class 5 (test data) = 70 \n",
      "Total no of missclassified points(test data) =  73\n",
      "Total % of missclassified points(test data) =  0.02971102971102971\n",
      "\n",
      "\n",
      "Training log_loss =  0.08370039869102008\n",
      "Tesing log_loss =  0.08411585240641427\n",
      "\n",
      "\n",
      "Confusion matrix:\n"
     ]
    },
    {
     "data": {
      "image/png": "[encoded data removed]",
      "text/plain": [
       "<Figure size 432x288 with 2 Axes>"
      ]
     },
     "metadata": {
      "needs_background": "light"
     },
     "output_type": "display_data"
    },
    {
     "name": "stdout",
     "output_type": "stream",
     "text": [
      "\n",
      "\n",
      "Classification report:-\n",
      "\n",
      "              precision    recall  f1-score   support\n",
      "\n",
      "         1.0       1.00      1.00      1.00       297\n",
      "         2.0       1.00      1.00      1.00       107\n",
      "         3.0       1.00      1.00      1.00       242\n",
      "         4.0       0.89      0.99      0.94       561\n",
      "         5.0       1.00      0.94      0.97      1250\n",
      "\n",
      "    accuracy                           0.97      2457\n",
      "   macro avg       0.98      0.99      0.98      2457\n",
      "weighted avg       0.97      0.97      0.97      2457\n",
      "\n",
      "**************************************************************************\n"
     ]
    }
   ],
   "source": [
    "from sklearn.svm import SVC\n",
    "svc=SVC(class_weight='balanced')\n",
    "\n",
    "print('Results for Support vector Classification:-\\n')\n",
    "start_time = time.time()\n",
    "svc.fit(X_train,y_train)\n",
    "svc_time = (time.time() - start_time)\n",
    "print('Training time(sec) = ',svc_time)\n",
    "\n",
    "y_pred1 = svc.predict(X_train)\n",
    "\n",
    "start_time = time.time()\n",
    "y_pred = svc.predict(X_test)\n",
    "svc_time2 = (time.time() - start_time)\n",
    "print('Prediction time(sec) = ',svc_time2)\n",
    "\n",
    "# y_pred_prob1 =svc.predict_proba(X_train)\n",
    "# y_pred_prob=svc.predict_proba(X_test)\n",
    "\n",
    "cm_svc = confusion_matrix(y_test, y_pred)\n",
    "svc_miss = np.sum(y_pred!=y_test.values.ravel())\n",
    "acc1_svc = balanced_accuracy_score(y_train,y_pred1)\n",
    "acc2_svc = balanced_accuracy_score(y_test,y_pred)\n",
    "loss1_svc = log_loss(y_train,y_pred_prob1)\n",
    "loss2_svc = log_loss(y_test,y_pred_prob)\n",
    "\n",
    "print('\\n\\nTraining score = ',acc1_svc)\n",
    "print('Tesing score = ',acc2_svc)\n",
    "print('\\n')\n",
    "\n",
    "for i in range(len(y_train['rating'].unique())):\n",
    "    err = np.sum(cm_svc[i])-cm_svc[i][i]\n",
    "    print('No of missclassified for class {} (test data) = {} '.format(label[i],err))\n",
    "    \n",
    "print('Total no of missclassified points(test data) = ',svc_miss)\n",
    "print('Total % of missclassified points(test data) = ',svc_miss/len(y_test))\n",
    "print('\\n\\nTraining log_loss = ',loss1_svc)\n",
    "print('Tesing log_loss = ',loss2_svc)\n",
    "print('\\n\\nConfusion matrix:')\n",
    "skplt.metrics.plot_confusion_matrix(y_test, y_pred)\n",
    "plt.show()\n",
    "print('\\n\\nClassification report:-\\n')\n",
    "print(classification_report(y_test,y_pred))\n",
    "print('**************************************************************************')\n",
    "\n",
    "SVC = [acc1_svc,acc2_svc,svc_miss,svc_miss/len(y_test),loss1_svc,loss2_svc,svc_time,svc_time2]"
   ]
  },
  {
   "cell_type": "code",
   "execution_count": 27,
   "id": "4f89d553",
   "metadata": {},
   "outputs": [],
   "source": [
    "s1=[MNB,LR,SVC]\n",
    "s2=['MNB','LR','SVC']\n",
    "col=['Train score','Test score','Missclassified-point','% missclasification','Train log-loss','Test log-loss','Training time','Prediction time']\n",
    "result2=dict.fromkeys(s2,None)\n",
    "\n",
    "for i in range(len(s1)):\n",
    "    result2[s2[i]] = s1[i]"
   ]
  },
  {
   "cell_type": "code",
   "execution_count": 28,
   "id": "22946c9d",
   "metadata": {},
   "outputs": [],
   "source": [
    "temp = pd.DataFrame.from_dict(result2, orient='index',columns=col).reset_index()\n",
    "result2 = temp.rename(columns={'index':'Classifiers'})"
   ]
  },
  {
   "cell_type": "code",
   "execution_count": 29,
   "id": "6e5086ff",
   "metadata": {},
   "outputs": [
    {
     "data": {
      "text/html": [
       "<div>\n",
       "<style scoped>\n",
       "    .dataframe tbody tr th:only-of-type {\n",
       "        vertical-align: middle;\n",
       "    }\n",
       "\n",
       "    .dataframe tbody tr th {\n",
       "        vertical-align: top;\n",
       "    }\n",
       "\n",
       "    .dataframe thead th {\n",
       "        text-align: right;\n",
       "    }\n",
       "</style>\n",
       "<table border=\"1\" class=\"dataframe\">\n",
       "  <thead>\n",
       "    <tr style=\"text-align: right;\">\n",
       "      <th></th>\n",
       "      <th>Classifiers</th>\n",
       "      <th>Train score</th>\n",
       "      <th>Test score</th>\n",
       "      <th>Missclassified-point</th>\n",
       "      <th>% missclasification</th>\n",
       "      <th>Train log-loss</th>\n",
       "      <th>Test log-loss</th>\n",
       "      <th>Training time</th>\n",
       "      <th>Prediction time</th>\n",
       "    </tr>\n",
       "  </thead>\n",
       "  <tbody>\n",
       "    <tr>\n",
       "      <th>0</th>\n",
       "      <td>MNB</td>\n",
       "      <td>0.922422</td>\n",
       "      <td>0.922948</td>\n",
       "      <td>153</td>\n",
       "      <td>0.062271</td>\n",
       "      <td>0.155842</td>\n",
       "      <td>0.152257</td>\n",
       "      <td>0.007745</td>\n",
       "      <td>0.000000</td>\n",
       "    </tr>\n",
       "    <tr>\n",
       "      <th>1</th>\n",
       "      <td>LR</td>\n",
       "      <td>0.986239</td>\n",
       "      <td>0.987570</td>\n",
       "      <td>74</td>\n",
       "      <td>0.030118</td>\n",
       "      <td>0.083700</td>\n",
       "      <td>0.084116</td>\n",
       "      <td>3.232027</td>\n",
       "      <td>0.000000</td>\n",
       "    </tr>\n",
       "    <tr>\n",
       "      <th>2</th>\n",
       "      <td>SVC</td>\n",
       "      <td>0.986452</td>\n",
       "      <td>0.987730</td>\n",
       "      <td>73</td>\n",
       "      <td>0.029711</td>\n",
       "      <td>0.083700</td>\n",
       "      <td>0.084116</td>\n",
       "      <td>0.284798</td>\n",
       "      <td>0.062447</td>\n",
       "    </tr>\n",
       "  </tbody>\n",
       "</table>\n",
       "</div>"
      ],
      "text/plain": [
       "  Classifiers  Train score  Test score  Missclassified-point  \\\n",
       "0         MNB     0.922422    0.922948                   153   \n",
       "1          LR     0.986239    0.987570                    74   \n",
       "2         SVC     0.986452    0.987730                    73   \n",
       "\n",
       "   % missclasification  Train log-loss  Test log-loss  Training time  \\\n",
       "0             0.062271        0.155842       0.152257       0.007745   \n",
       "1             0.030118        0.083700       0.084116       3.232027   \n",
       "2             0.029711        0.083700       0.084116       0.284798   \n",
       "\n",
       "   Prediction time  \n",
       "0         0.000000  \n",
       "1         0.000000  \n",
       "2         0.062447  "
      ]
     },
     "execution_count": 29,
     "metadata": {},
     "output_type": "execute_result"
    }
   ],
   "source": [
    "#Class balanced\n",
    "result2"
   ]
  },
  {
   "cell_type": "code",
   "execution_count": 30,
   "id": "e561b4ce",
   "metadata": {},
   "outputs": [
    {
     "data": {
      "text/html": [
       "<div>\n",
       "<style scoped>\n",
       "    .dataframe tbody tr th:only-of-type {\n",
       "        vertical-align: middle;\n",
       "    }\n",
       "\n",
       "    .dataframe tbody tr th {\n",
       "        vertical-align: top;\n",
       "    }\n",
       "\n",
       "    .dataframe thead th {\n",
       "        text-align: right;\n",
       "    }\n",
       "</style>\n",
       "<table border=\"1\" class=\"dataframe\">\n",
       "  <thead>\n",
       "    <tr style=\"text-align: right;\">\n",
       "      <th></th>\n",
       "      <th>Classifiers</th>\n",
       "      <th>Train score</th>\n",
       "      <th>Test score</th>\n",
       "      <th>Missclassified-point</th>\n",
       "      <th>% missclasification</th>\n",
       "      <th>Train log-loss</th>\n",
       "      <th>Test log-loss</th>\n",
       "      <th>Training time</th>\n",
       "      <th>Prediction time</th>\n",
       "    </tr>\n",
       "  </thead>\n",
       "  <tbody>\n",
       "    <tr>\n",
       "      <th>0</th>\n",
       "      <td>MNB</td>\n",
       "      <td>0.915410</td>\n",
       "      <td>0.910102</td>\n",
       "      <td>151</td>\n",
       "      <td>0.061457</td>\n",
       "      <td>0.121548</td>\n",
       "      <td>0.125498</td>\n",
       "      <td>0.008000</td>\n",
       "      <td>0.000000</td>\n",
       "    </tr>\n",
       "    <tr>\n",
       "      <th>1</th>\n",
       "      <td>LR</td>\n",
       "      <td>0.977707</td>\n",
       "      <td>0.974368</td>\n",
       "      <td>73</td>\n",
       "      <td>0.029711</td>\n",
       "      <td>0.076141</td>\n",
       "      <td>0.080278</td>\n",
       "      <td>4.663541</td>\n",
       "      <td>0.000000</td>\n",
       "    </tr>\n",
       "    <tr>\n",
       "      <th>2</th>\n",
       "      <td>SVC</td>\n",
       "      <td>0.979111</td>\n",
       "      <td>0.973695</td>\n",
       "      <td>74</td>\n",
       "      <td>0.030118</td>\n",
       "      <td>0.076141</td>\n",
       "      <td>0.080278</td>\n",
       "      <td>0.223857</td>\n",
       "      <td>0.051878</td>\n",
       "    </tr>\n",
       "  </tbody>\n",
       "</table>\n",
       "</div>"
      ],
      "text/plain": [
       "  Classifiers  Train score  Test score  Missclassified-point  \\\n",
       "0         MNB     0.915410    0.910102                   151   \n",
       "1          LR     0.977707    0.974368                    73   \n",
       "2         SVC     0.979111    0.973695                    74   \n",
       "\n",
       "   % missclasification  Train log-loss  Test log-loss  Training time  \\\n",
       "0             0.061457        0.121548       0.125498       0.008000   \n",
       "1             0.029711        0.076141       0.080278       4.663541   \n",
       "2             0.030118        0.076141       0.080278       0.223857   \n",
       "\n",
       "   Prediction time  \n",
       "0         0.000000  \n",
       "1         0.000000  \n",
       "2         0.051878  "
      ]
     },
     "execution_count": 30,
     "metadata": {},
     "output_type": "execute_result"
    }
   ],
   "source": [
    "#Class not balanced\n",
    "result"
   ]
  },
  {
   "cell_type": "code",
   "execution_count": 32,
   "id": "5aa04b68",
   "metadata": {},
   "outputs": [
    {
     "data": {
      "text/plain": [
       "['svc1.joblib']"
      ]
     },
     "execution_count": 32,
     "metadata": {},
     "output_type": "execute_result"
    }
   ],
   "source": [
    "from joblib import dump\n",
    "dump(vectorizer,'vec1.joblib') \n",
    "dump(svc,'svc1.joblib') "
   ]
  },
  {
   "cell_type": "markdown",
   "id": "0cc5dd29",
   "metadata": {},
   "source": [
    "#### Using review_text column"
   ]
  },
  {
   "cell_type": "code",
   "execution_count": 33,
   "id": "cc543edb",
   "metadata": {},
   "outputs": [
    {
     "data": {
      "text/html": [
       "<div>\n",
       "<style scoped>\n",
       "    .dataframe tbody tr th:only-of-type {\n",
       "        vertical-align: middle;\n",
       "    }\n",
       "\n",
       "    .dataframe tbody tr th {\n",
       "        vertical-align: top;\n",
       "    }\n",
       "\n",
       "    .dataframe thead th {\n",
       "        text-align: right;\n",
       "    }\n",
       "</style>\n",
       "<table border=\"1\" class=\"dataframe\">\n",
       "  <thead>\n",
       "    <tr style=\"text-align: right;\">\n",
       "      <th></th>\n",
       "      <th>review_text</th>\n",
       "      <th>rating</th>\n",
       "    </tr>\n",
       "  </thead>\n",
       "  <tbody>\n",
       "    <tr>\n",
       "      <th>0</th>\n",
       "      <td>Amazing Product, bass is amazing and easy to c...</td>\n",
       "      <td>4.0</td>\n",
       "    </tr>\n",
       "    <tr>\n",
       "      <th>1</th>\n",
       "      <td>Worth it If you think to buy a tws then it is ...</td>\n",
       "      <td>5.0</td>\n",
       "    </tr>\n",
       "    <tr>\n",
       "      <th>2</th>\n",
       "      <td>Good and well but still some batter time impro...</td>\n",
       "      <td>3.0</td>\n",
       "    </tr>\n",
       "    <tr>\n",
       "      <th>3</th>\n",
       "      <td>As they rightly say about Chinese Products: Ch...</td>\n",
       "      <td>1.0</td>\n",
       "    </tr>\n",
       "    <tr>\n",
       "      <th>4</th>\n",
       "      <td>I am writing this review after using this prod...</td>\n",
       "      <td>3.0</td>\n",
       "    </tr>\n",
       "  </tbody>\n",
       "</table>\n",
       "</div>"
      ],
      "text/plain": [
       "                                         review_text  rating\n",
       "0  Amazing Product, bass is amazing and easy to c...     4.0\n",
       "1  Worth it If you think to buy a tws then it is ...     5.0\n",
       "2  Good and well but still some batter time impro...     3.0\n",
       "3  As they rightly say about Chinese Products: Ch...     1.0\n",
       "4  I am writing this review after using this prod...     3.0"
      ]
     },
     "execution_count": 33,
     "metadata": {},
     "output_type": "execute_result"
    }
   ],
   "source": [
    "df=pd.read_csv(r\"data.csv\")\n",
    "df = df[['review_text','rating']]\n",
    "df.head()"
   ]
  },
  {
   "cell_type": "code",
   "execution_count": 34,
   "id": "31ffc17b",
   "metadata": {},
   "outputs": [],
   "source": [
    "def preprocess_text(s):\n",
    "    l=[]\n",
    "    for i in s:\n",
    "        if (i.isalnum()) or (i==' '):\n",
    "            l.append(i.lower())\n",
    "        else:\n",
    "            l.append(' ')\n",
    "    return ''.join(l).strip()"
   ]
  },
  {
   "cell_type": "code",
   "execution_count": 35,
   "id": "62e0de34",
   "metadata": {},
   "outputs": [],
   "source": [
    "df['review_text'] = df['review_text'].apply(lambda x : preprocess_text(x))"
   ]
  },
  {
   "cell_type": "code",
   "execution_count": 53,
   "id": "70c5961e",
   "metadata": {},
   "outputs": [],
   "source": [
    "import spacy\n",
    "nlp = spacy.load('en_core_web_sm')\n",
    "\n",
    "import re\n",
    "import contractions\n",
    "from nltk.corpus import stopwords\n",
    "\n",
    "stop_words = set(stopwords.words('english'))\n",
    "stop_words.discard('not')"
   ]
  },
  {
   "cell_type": "code",
   "execution_count": 54,
   "id": "ce0330d0",
   "metadata": {},
   "outputs": [],
   "source": [
    "def process(sent):\n",
    "    sent = contractions.fix(sent)\n",
    "    sent = sent.lower()\n",
    "    sent = re.sub(r'[^\\w\\s]','', sent) \n",
    "    d = nlp(sent)\n",
    "    tokens=[]\n",
    "    \n",
    "    for i in d:\n",
    "        if i.lemma_ != '-PRON-':\n",
    "            tokens.append(i.lemma_)\n",
    "            \n",
    "    tokens = [tok for tok in tokens if tok not in stop_words]\n",
    "\n",
    "    tokens = ' '.join(tokens)\n",
    "    return tokens"
   ]
  },
  {
   "cell_type": "code",
   "execution_count": 55,
   "id": "0b7b4612",
   "metadata": {},
   "outputs": [],
   "source": [
    "df['review_text'] = df['review_text'].apply(lambda x: process(x))"
   ]
  },
  {
   "cell_type": "code",
   "execution_count": 56,
   "id": "e1292c0c",
   "metadata": {},
   "outputs": [],
   "source": [
    "X=df.iloc[:,df.columns !='rating']\n",
    "y=df.iloc[:,df.columns =='rating']"
   ]
  },
  {
   "cell_type": "code",
   "execution_count": 57,
   "id": "767e7143",
   "metadata": {},
   "outputs": [],
   "source": [
    "X_train,X_test,y_train,y_test=train_test_split(X,y,stratify=y,test_size=0.25,random_state=101)"
   ]
  },
  {
   "cell_type": "code",
   "execution_count": 58,
   "id": "397108b2",
   "metadata": {},
   "outputs": [
    {
     "data": {
      "text/plain": [
       "((7368, 1), (2457, 1))"
      ]
     },
     "execution_count": 58,
     "metadata": {},
     "output_type": "execute_result"
    }
   ],
   "source": [
    "X_train.shape,X_test.shape"
   ]
  },
  {
   "cell_type": "code",
   "execution_count": 59,
   "id": "7497bdb8",
   "metadata": {},
   "outputs": [],
   "source": [
    "from sklearn.feature_extraction.text import TfidfVectorizer\n",
    "vectorizer = TfidfVectorizer(lowercase=False)\n",
    "X_train = vectorizer.fit_transform(X_train.values.ravel())\n",
    "X_test = vectorizer.transform(X_test.values.ravel())"
   ]
  },
  {
   "cell_type": "code",
   "execution_count": 60,
   "id": "c68d59a0",
   "metadata": {},
   "outputs": [
    {
     "data": {
      "text/plain": [
       "((7368, 3638), (2457, 3638))"
      ]
     },
     "execution_count": 60,
     "metadata": {},
     "output_type": "execute_result"
    }
   ],
   "source": [
    "X_train.shape,X_test.shape"
   ]
  },
  {
   "cell_type": "code",
   "execution_count": 61,
   "id": "927088b2",
   "metadata": {},
   "outputs": [],
   "source": [
    "label = [1,2,3,4,5]"
   ]
  },
  {
   "cell_type": "code",
   "execution_count": 62,
   "id": "c82130b7",
   "metadata": {},
   "outputs": [
    {
     "name": "stdout",
     "output_type": "stream",
     "text": [
      "Results for Multinomial naive bayes:-\n",
      "\n",
      "Training time(sec) =  0.015981197357177734\n",
      "Prediction time(sec) =  0.0\n",
      "\n",
      "\n",
      "Training score =  0.5738118009839013\n",
      "Tesing score =  0.4291605955232603\n",
      "\n",
      "\n",
      "No of missclassified for class 1 (test data) = 67 \n",
      "No of missclassified for class 2 (test data) = 102 \n",
      "No of missclassified for class 3 (test data) = 191 \n",
      "No of missclassified for class 4 (test data) = 419 \n",
      "No of missclassified for class 5 (test data) = 174 \n",
      "Total no of missclassified points(test data) =  953\n",
      "Total % of missclassified points(test data) =  0.38787138787138786\n",
      "\n",
      "\n",
      "Training log_loss =  0.897760901740312\n",
      "Tesing log_loss =  1.002270410785877\n",
      "\n",
      "\n",
      "Confusion matrix:\n"
     ]
    },
    {
     "data": {
      "image/png": "[encoded data removed]",
      "text/plain": [
       "<Figure size 432x288 with 2 Axes>"
      ]
     },
     "metadata": {
      "needs_background": "light"
     },
     "output_type": "display_data"
    },
    {
     "name": "stdout",
     "output_type": "stream",
     "text": [
      "\n",
      "\n",
      "Classification report:-\n",
      "\n",
      "              precision    recall  f1-score   support\n",
      "\n",
      "         1.0       0.58      0.77      0.67       297\n",
      "         2.0       0.29      0.05      0.08       107\n",
      "         3.0       0.31      0.21      0.25       242\n",
      "         4.0       0.39      0.25      0.31       561\n",
      "         5.0       0.71      0.86      0.78      1250\n",
      "\n",
      "    accuracy                           0.61      2457\n",
      "   macro avg       0.46      0.43      0.42      2457\n",
      "weighted avg       0.56      0.61      0.57      2457\n",
      "\n",
      "**************************************************************************\n"
     ]
    }
   ],
   "source": [
    "#Fit prior is set to false since data is not balanced\n",
    "mnb = MultinomialNB(fit_prior = False)\n",
    "\n",
    "print('Results for Multinomial naive bayes:-\\n')\n",
    "start_time = time.time()\n",
    "mnb.fit(X_train,y_train)\n",
    "mnb_time = (time.time() - start_time)\n",
    "print('Training time(sec) = ',mnb_time)\n",
    "\n",
    "y_pred1 = mnb.predict(X_train)\n",
    "\n",
    "start_time = time.time()\n",
    "y_pred = mnb.predict(X_test)\n",
    "mnb_time2 = (time.time() - start_time)\n",
    "print('Prediction time(sec) = ',mnb_time2)\n",
    "\n",
    "y_pred_prob1 = mnb.predict_proba(X_train)\n",
    "y_pred_prob = mnb.predict_proba(X_test)\n",
    "\n",
    "cm_mnb = confusion_matrix(y_test, y_pred)\n",
    "mnb_miss = np.sum(y_pred!=y_test.values.ravel())\n",
    "acc1_mnb = balanced_accuracy_score(y_train,y_pred1)\n",
    "acc2_mnb = balanced_accuracy_score(y_test,y_pred)\n",
    "loss1_mnb = log_loss(y_train,y_pred_prob1)\n",
    "loss2_mnb = log_loss(y_test,y_pred_prob)\n",
    "\n",
    "print('\\n\\nTraining score = ',acc1_mnb)\n",
    "print('Tesing score = ',acc2_mnb)\n",
    "print('\\n')\n",
    "\n",
    "for i in range(len(y_train['rating'].unique())):\n",
    "    err = np.sum(cm_mnb[i])-cm_mnb[i][i]\n",
    "    print('No of missclassified for class {} (test data) = {} '.format(label[i],err))\n",
    "print('Total no of missclassified points(test data) = ',mnb_miss)\n",
    "print('Total % of missclassified points(test data) = ',mnb_miss/len(y_test))\n",
    "\n",
    "print('\\n\\nTraining log_loss = ',loss1_mnb)\n",
    "print('Tesing log_loss = ',loss2_mnb)\n",
    "print('\\n\\nConfusion matrix:')\n",
    "skplt.metrics.plot_confusion_matrix(y_test, y_pred)\n",
    "plt.show()\n",
    "print('\\n\\nClassification report:-\\n')\n",
    "print(classification_report(y_test,y_pred))\n",
    "print('**************************************************************************')\n",
    "\n",
    "MNB = [acc1_mnb,acc2_mnb,mnb_miss,mnb_miss/len(y_test),loss1_mnb,loss2_mnb,mnb_time,mnb_time2]"
   ]
  },
  {
   "cell_type": "code",
   "execution_count": 63,
   "id": "bb203d38",
   "metadata": {},
   "outputs": [
    {
     "name": "stdout",
     "output_type": "stream",
     "text": [
      "Results for Logistic regression:-\n",
      "\n",
      "Training time(sec) =  5.084901332855225\n",
      "Prediction time(sec) =  0.008025646209716797\n",
      "\n",
      "\n",
      "Training score =  0.7076887748824139\n",
      "Tesing score =  0.49108276324812083\n",
      "\n",
      "\n",
      "No of missclassified for class 1 (test data) = 98 \n",
      "No of missclassified for class 2 (test data) = 65 \n",
      "No of missclassified for class 3 (test data) = 157 \n",
      "No of missclassified for class 4 (test data) = 333 \n",
      "No of missclassified for class 5 (test data) = 456 \n",
      "Total no of missclassified points(test data) =  1109\n",
      "Total % of missclassified points(test data) =  0.45136345136345135\n",
      "\n",
      "\n",
      "Training log_loss =  0.8897328390024114\n",
      "Tesing log_loss =  1.0568042256909553\n",
      "\n",
      "\n",
      "Confusion matrix:\n"
     ]
    },
    {
     "data": {
      "image/png": "[encoded data removed]",
      "text/plain": [
       "<Figure size 432x288 with 2 Axes>"
      ]
     },
     "metadata": {
      "needs_background": "light"
     },
     "output_type": "display_data"
    },
    {
     "name": "stdout",
     "output_type": "stream",
     "text": [
      "\n",
      "\n",
      "Classification report:-\n",
      "\n",
      "              precision    recall  f1-score   support\n",
      "\n",
      "         1.0       0.62      0.67      0.64       297\n",
      "         2.0       0.26      0.39      0.31       107\n",
      "         3.0       0.31      0.35      0.33       242\n",
      "         4.0       0.34      0.41      0.37       561\n",
      "         5.0       0.77      0.64      0.70      1250\n",
      "\n",
      "    accuracy                           0.55      2457\n",
      "   macro avg       0.46      0.49      0.47      2457\n",
      "weighted avg       0.59      0.55      0.56      2457\n",
      "\n",
      "**************************************************************************\n"
     ]
    }
   ],
   "source": [
    "lr=LogisticRegression(class_weight='balanced', n_jobs=-1)\n",
    "\n",
    "print('Results for Logistic regression:-\\n')\n",
    "start_time = time.time()\n",
    "lr.fit(X_train,y_train)\n",
    "lr_time = (time.time() - start_time)\n",
    "print('Training time(sec) = ',lr_time)\n",
    "\n",
    "y_pred1 = lr.predict(X_train)\n",
    "\n",
    "start_time = time.time()\n",
    "y_pred = lr.predict(X_test)\n",
    "lr_time2 = (time.time() - start_time)\n",
    "print('Prediction time(sec) = ',lr_time2)\n",
    "\n",
    "y_pred_prob1 =lr.predict_proba(X_train)\n",
    "y_pred_prob=lr.predict_proba(X_test)\n",
    "\n",
    "cm_lr = confusion_matrix(y_test, y_pred)\n",
    "lr_miss = np.sum(y_pred!=y_test.values.ravel())\n",
    "acc1_lr = balanced_accuracy_score(y_train,y_pred1)\n",
    "acc2_lr = balanced_accuracy_score(y_test,y_pred)\n",
    "loss1_lr = log_loss(y_train,y_pred_prob1)\n",
    "loss2_lr = log_loss(y_test,y_pred_prob)\n",
    "\n",
    "print('\\n\\nTraining score = ',acc1_lr)\n",
    "print('Tesing score = ',acc2_lr)\n",
    "print('\\n')\n",
    "\n",
    "for i in range(len(y_train['rating'].unique())):\n",
    "    err = np.sum(cm_lr[i])-cm_lr[i][i]\n",
    "    print('No of missclassified for class {} (test data) = {} '.format(label[i],err))\n",
    "    \n",
    "print('Total no of missclassified points(test data) = ',lr_miss)\n",
    "print('Total % of missclassified points(test data) = ',lr_miss/len(y_test))\n",
    "print('\\n\\nTraining log_loss = ',loss1_lr)\n",
    "print('Tesing log_loss = ',loss2_lr)\n",
    "print('\\n\\nConfusion matrix:')\n",
    "skplt.metrics.plot_confusion_matrix(y_test, y_pred)\n",
    "plt.show()\n",
    "print('\\n\\nClassification report:-\\n')\n",
    "print(classification_report(y_test,y_pred))\n",
    "print('**************************************************************************')\n",
    "\n",
    "LR = [acc1_lr,acc2_lr,lr_miss,lr_miss/len(y_test),loss1_lr,loss2_lr,lr_time,lr_time2]"
   ]
  },
  {
   "cell_type": "code",
   "execution_count": 64,
   "id": "6f9bc343",
   "metadata": {},
   "outputs": [
    {
     "name": "stdout",
     "output_type": "stream",
     "text": [
      "Results for Support vector Classification:-\n",
      "\n",
      "Training time(sec) =  9.662116527557373\n",
      "Prediction time(sec) =  2.0831692218780518\n",
      "\n",
      "\n",
      "Training score =  0.8418345879003443\n",
      "Tesing score =  0.5251623001568486\n",
      "\n",
      "\n",
      "No of missclassified for class 1 (test data) = 75 \n",
      "No of missclassified for class 2 (test data) = 73 \n",
      "No of missclassified for class 3 (test data) = 145 \n",
      "No of missclassified for class 4 (test data) = 295 \n",
      "No of missclassified for class 5 (test data) = 393 \n",
      "Total no of missclassified points(test data) =  981\n",
      "Total % of missclassified points(test data) =  0.3992673992673993\n",
      "\n",
      "\n",
      "Training log_loss =  0.8897328390024114\n",
      "Tesing log_loss =  1.0568042256909553\n",
      "\n",
      "\n",
      "Confusion matrix:\n"
     ]
    },
    {
     "data": {
      "image/png": "[encoded data removed]",
      "text/plain": [
       "<Figure size 432x288 with 2 Axes>"
      ]
     },
     "metadata": {
      "needs_background": "light"
     },
     "output_type": "display_data"
    },
    {
     "name": "stdout",
     "output_type": "stream",
     "text": [
      "\n",
      "\n",
      "Classification report:-\n",
      "\n",
      "              precision    recall  f1-score   support\n",
      "\n",
      "         1.0       0.65      0.75      0.70       297\n",
      "         2.0       0.43      0.32      0.37       107\n",
      "         3.0       0.42      0.40      0.41       242\n",
      "         4.0       0.39      0.47      0.43       561\n",
      "         5.0       0.77      0.69      0.72      1250\n",
      "\n",
      "    accuracy                           0.60      2457\n",
      "   macro avg       0.53      0.53      0.52      2457\n",
      "weighted avg       0.62      0.60      0.61      2457\n",
      "\n",
      "**************************************************************************\n"
     ]
    }
   ],
   "source": [
    "from sklearn.svm import SVC\n",
    "svc=SVC(class_weight='balanced')\n",
    "\n",
    "print('Results for Support vector Classification:-\\n')\n",
    "start_time = time.time()\n",
    "svc.fit(X_train,y_train)\n",
    "svc_time = (time.time() - start_time)\n",
    "print('Training time(sec) = ',svc_time)\n",
    "\n",
    "y_pred1 = svc.predict(X_train)\n",
    "\n",
    "start_time = time.time()\n",
    "y_pred = svc.predict(X_test)\n",
    "svc_time2 = (time.time() - start_time)\n",
    "print('Prediction time(sec) = ',svc_time2)\n",
    "\n",
    "# y_pred_prob1 =svc.predict_proba(X_train)\n",
    "# y_pred_prob=svc.predict_proba(X_test)\n",
    "\n",
    "cm_svc = confusion_matrix(y_test, y_pred)\n",
    "svc_miss = np.sum(y_pred!=y_test.values.ravel())\n",
    "acc1_svc = balanced_accuracy_score(y_train,y_pred1)\n",
    "acc2_svc = balanced_accuracy_score(y_test,y_pred)\n",
    "loss1_svc = log_loss(y_train,y_pred_prob1)\n",
    "loss2_svc = log_loss(y_test,y_pred_prob)\n",
    "\n",
    "print('\\n\\nTraining score = ',acc1_svc)\n",
    "print('Tesing score = ',acc2_svc)\n",
    "print('\\n')\n",
    "\n",
    "for i in range(len(y_train['rating'].unique())):\n",
    "    err = np.sum(cm_svc[i])-cm_svc[i][i]\n",
    "    print('No of missclassified for class {} (test data) = {} '.format(label[i],err))\n",
    "    \n",
    "print('Total no of missclassified points(test data) = ',svc_miss)\n",
    "print('Total % of missclassified points(test data) = ',svc_miss/len(y_test))\n",
    "print('\\n\\nTraining log_loss = ',loss1_svc)\n",
    "print('Tesing log_loss = ',loss2_svc)\n",
    "print('\\n\\nConfusion matrix:')\n",
    "skplt.metrics.plot_confusion_matrix(y_test, y_pred)\n",
    "plt.show()\n",
    "print('\\n\\nClassification report:-\\n')\n",
    "print(classification_report(y_test,y_pred))\n",
    "print('**************************************************************************')\n",
    "\n",
    "SVC = [acc1_svc,acc2_svc,svc_miss,svc_miss/len(y_test),loss1_svc,loss2_svc,svc_time,svc_time2]"
   ]
  },
  {
   "cell_type": "code",
   "execution_count": 65,
   "id": "15c6ef82",
   "metadata": {},
   "outputs": [],
   "source": [
    "s1=[MNB,LR,SVC]\n",
    "s2=['MNB','LR','SVC']\n",
    "col=['Train score','Test score','Missclassified-point','% missclasification','Train log-loss','Test log-loss','Training time','Prediction time']\n",
    "result3=dict.fromkeys(s2,None)\n",
    "\n",
    "for i in range(len(s1)):\n",
    "    result3[s2[i]] = s1[i]"
   ]
  },
  {
   "cell_type": "code",
   "execution_count": 66,
   "id": "caa07bc3",
   "metadata": {},
   "outputs": [],
   "source": [
    "temp = pd.DataFrame.from_dict(result3, orient='index',columns=col).reset_index()\n",
    "result3 = temp.rename(columns={'index':'Classifiers'})"
   ]
  },
  {
   "cell_type": "code",
   "execution_count": 67,
   "id": "cc1809a4",
   "metadata": {},
   "outputs": [
    {
     "data": {
      "text/html": [
       "<div>\n",
       "<style scoped>\n",
       "    .dataframe tbody tr th:only-of-type {\n",
       "        vertical-align: middle;\n",
       "    }\n",
       "\n",
       "    .dataframe tbody tr th {\n",
       "        vertical-align: top;\n",
       "    }\n",
       "\n",
       "    .dataframe thead th {\n",
       "        text-align: right;\n",
       "    }\n",
       "</style>\n",
       "<table border=\"1\" class=\"dataframe\">\n",
       "  <thead>\n",
       "    <tr style=\"text-align: right;\">\n",
       "      <th></th>\n",
       "      <th>Classifiers</th>\n",
       "      <th>Train score</th>\n",
       "      <th>Test score</th>\n",
       "      <th>Missclassified-point</th>\n",
       "      <th>% missclasification</th>\n",
       "      <th>Train log-loss</th>\n",
       "      <th>Test log-loss</th>\n",
       "      <th>Training time</th>\n",
       "      <th>Prediction time</th>\n",
       "    </tr>\n",
       "  </thead>\n",
       "  <tbody>\n",
       "    <tr>\n",
       "      <th>0</th>\n",
       "      <td>MNB</td>\n",
       "      <td>0.573812</td>\n",
       "      <td>0.429161</td>\n",
       "      <td>953</td>\n",
       "      <td>0.387871</td>\n",
       "      <td>0.897761</td>\n",
       "      <td>1.002270</td>\n",
       "      <td>0.015981</td>\n",
       "      <td>0.000000</td>\n",
       "    </tr>\n",
       "    <tr>\n",
       "      <th>1</th>\n",
       "      <td>LR</td>\n",
       "      <td>0.707689</td>\n",
       "      <td>0.491083</td>\n",
       "      <td>1109</td>\n",
       "      <td>0.451363</td>\n",
       "      <td>0.889733</td>\n",
       "      <td>1.056804</td>\n",
       "      <td>5.084901</td>\n",
       "      <td>0.008026</td>\n",
       "    </tr>\n",
       "    <tr>\n",
       "      <th>2</th>\n",
       "      <td>SVC</td>\n",
       "      <td>0.841835</td>\n",
       "      <td>0.525162</td>\n",
       "      <td>981</td>\n",
       "      <td>0.399267</td>\n",
       "      <td>0.889733</td>\n",
       "      <td>1.056804</td>\n",
       "      <td>9.662117</td>\n",
       "      <td>2.083169</td>\n",
       "    </tr>\n",
       "  </tbody>\n",
       "</table>\n",
       "</div>"
      ],
      "text/plain": [
       "  Classifiers  Train score  Test score  Missclassified-point  \\\n",
       "0         MNB     0.573812    0.429161                   953   \n",
       "1          LR     0.707689    0.491083                  1109   \n",
       "2         SVC     0.841835    0.525162                   981   \n",
       "\n",
       "   % missclasification  Train log-loss  Test log-loss  Training time  \\\n",
       "0             0.387871        0.897761       1.002270       0.015981   \n",
       "1             0.451363        0.889733       1.056804       5.084901   \n",
       "2             0.399267        0.889733       1.056804       9.662117   \n",
       "\n",
       "   Prediction time  \n",
       "0         0.000000  \n",
       "1         0.008026  \n",
       "2         2.083169  "
      ]
     },
     "execution_count": 67,
     "metadata": {},
     "output_type": "execute_result"
    }
   ],
   "source": [
    "#Class balanced\n",
    "result3"
   ]
  },
  {
   "cell_type": "code",
   "execution_count": 68,
   "id": "19c37a2a",
   "metadata": {},
   "outputs": [
    {
     "data": {
      "text/html": [
       "<div>\n",
       "<style scoped>\n",
       "    .dataframe tbody tr th:only-of-type {\n",
       "        vertical-align: middle;\n",
       "    }\n",
       "\n",
       "    .dataframe tbody tr th {\n",
       "        vertical-align: top;\n",
       "    }\n",
       "\n",
       "    .dataframe thead th {\n",
       "        text-align: right;\n",
       "    }\n",
       "</style>\n",
       "<table border=\"1\" class=\"dataframe\">\n",
       "  <thead>\n",
       "    <tr style=\"text-align: right;\">\n",
       "      <th></th>\n",
       "      <th>Classifiers</th>\n",
       "      <th>Train score</th>\n",
       "      <th>Test score</th>\n",
       "      <th>Missclassified-point</th>\n",
       "      <th>% missclasification</th>\n",
       "      <th>Train log-loss</th>\n",
       "      <th>Test log-loss</th>\n",
       "      <th>Training time</th>\n",
       "      <th>Prediction time</th>\n",
       "    </tr>\n",
       "  </thead>\n",
       "  <tbody>\n",
       "    <tr>\n",
       "      <th>0</th>\n",
       "      <td>MNB</td>\n",
       "      <td>0.922422</td>\n",
       "      <td>0.922948</td>\n",
       "      <td>153</td>\n",
       "      <td>0.062271</td>\n",
       "      <td>0.155842</td>\n",
       "      <td>0.152257</td>\n",
       "      <td>0.007745</td>\n",
       "      <td>0.000000</td>\n",
       "    </tr>\n",
       "    <tr>\n",
       "      <th>1</th>\n",
       "      <td>LR</td>\n",
       "      <td>0.986239</td>\n",
       "      <td>0.987570</td>\n",
       "      <td>74</td>\n",
       "      <td>0.030118</td>\n",
       "      <td>0.083700</td>\n",
       "      <td>0.084116</td>\n",
       "      <td>3.232027</td>\n",
       "      <td>0.000000</td>\n",
       "    </tr>\n",
       "    <tr>\n",
       "      <th>2</th>\n",
       "      <td>SVC</td>\n",
       "      <td>0.986452</td>\n",
       "      <td>0.987730</td>\n",
       "      <td>73</td>\n",
       "      <td>0.029711</td>\n",
       "      <td>0.083700</td>\n",
       "      <td>0.084116</td>\n",
       "      <td>0.284798</td>\n",
       "      <td>0.062447</td>\n",
       "    </tr>\n",
       "  </tbody>\n",
       "</table>\n",
       "</div>"
      ],
      "text/plain": [
       "  Classifiers  Train score  Test score  Missclassified-point  \\\n",
       "0         MNB     0.922422    0.922948                   153   \n",
       "1          LR     0.986239    0.987570                    74   \n",
       "2         SVC     0.986452    0.987730                    73   \n",
       "\n",
       "   % missclasification  Train log-loss  Test log-loss  Training time  \\\n",
       "0             0.062271        0.155842       0.152257       0.007745   \n",
       "1             0.030118        0.083700       0.084116       3.232027   \n",
       "2             0.029711        0.083700       0.084116       0.284798   \n",
       "\n",
       "   Prediction time  \n",
       "0         0.000000  \n",
       "1         0.000000  \n",
       "2         0.062447  "
      ]
     },
     "execution_count": 68,
     "metadata": {},
     "output_type": "execute_result"
    }
   ],
   "source": [
    "result2"
   ]
  },
  {
   "cell_type": "code",
   "execution_count": null,
   "id": "921307e8",
   "metadata": {},
   "outputs": [],
   "source": []
  }
 ],
 "metadata": {
  "kernelspec": {
   "display_name": "Python 3",
   "language": "python",
   "name": "python3"
  },
  "language_info": {
   "codemirror_mode": {
    "name": "ipython",
    "version": 3
   },
   "file_extension": ".py",
   "mimetype": "text/x-python",
   "name": "python",
   "nbconvert_exporter": "python",
   "pygments_lexer": "ipython3",
   "version": "3.7.7"
  }
 },
 "nbformat": 4,
 "nbformat_minor": 5
}
