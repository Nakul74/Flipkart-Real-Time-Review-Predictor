{
 "cells": [
  {
   "cell_type": "code",
   "execution_count": 1,
   "id": "76d944ac",
   "metadata": {},
   "outputs": [],
   "source": [
    "from joblib import load\n",
    "import numpy as np"
   ]
  },
  {
   "cell_type": "code",
   "execution_count": 2,
   "id": "99f966be",
   "metadata": {},
   "outputs": [],
   "source": [
    "def preprocess_text(s):\n",
    "    l=[]\n",
    "    for i in s:\n",
    "        if (i.isalnum()) or (i==' '):\n",
    "            l.append(i.lower())\n",
    "        else:\n",
    "            l.append(' ')\n",
    "    return ''.join(l).strip()"
   ]
  },
  {
   "cell_type": "code",
   "execution_count": 3,
   "id": "72762337",
   "metadata": {},
   "outputs": [],
   "source": [
    "def predict(arr):\n",
    "    arr = preprocess_text(arr)\n",
    "    vec = load('vec1.joblib') \n",
    "    bagging = load('svc1.joblib')\n",
    "    \n",
    "    arr = np.array([arr])\n",
    "    vect = vec.transform(arr)\n",
    "    \n",
    "    return bagging.predict(vect)"
   ]
  },
  {
   "cell_type": "code",
   "execution_count": 4,
   "id": "2ca85d36",
   "metadata": {},
   "outputs": [
    {
     "name": "stdout",
     "output_type": "stream",
     "text": [
      "Enter the review :Good product\n",
      "[4.]\n"
     ]
    }
   ],
   "source": [
    "s = input('Enter the review :')\n",
    "prediction = predict(s)\n",
    "\n",
    "print(prediction)"
   ]
  },
  {
   "cell_type": "code",
   "execution_count": 5,
   "id": "fd77a6e2",
   "metadata": {},
   "outputs": [
    {
     "name": "stdout",
     "output_type": "stream",
     "text": [
      "Enter the review :very bad\n",
      "[1.]\n"
     ]
    }
   ],
   "source": [
    "s = input('Enter the review :')\n",
    "prediction = predict(s)\n",
    "\n",
    "print(prediction)"
   ]
  },
  {
   "cell_type": "markdown",
   "id": "1e97d329",
   "metadata": {},
   "source": [
    "#### Testing the model with pywebio"
   ]
  },
  {
   "cell_type": "code",
   "execution_count": 6,
   "id": "6c8c3e70",
   "metadata": {},
   "outputs": [],
   "source": [
    "from pywebio.input import input,TEXT\n",
    "from pywebio.output import put_text"
   ]
  },
  {
   "cell_type": "code",
   "execution_count": 7,
   "id": "e44f775e",
   "metadata": {},
   "outputs": [],
   "source": [
    "def predict_review():\n",
    "    s = input(\"Enter the review：\", type = TEXT)\n",
    "    prediction = predict(s)\n",
    "    \n",
    "    if prediction == 1:\n",
    "        review = '1'\n",
    "    elif prediction == 2:\n",
    "        review = '2'\n",
    "    elif prediction == 3:\n",
    "        review = '3'\n",
    "    elif prediction == 4:\n",
    "        review = '4'\n",
    "    elif prediction == 5:\n",
    "        review = '5'\n",
    "        \n",
    "    put_text('Review is worth ',review,' star')"
   ]
  },
  {
   "cell_type": "code",
   "execution_count": 8,
   "id": "e41e7632",
   "metadata": {},
   "outputs": [],
   "source": [
    "predict_review()"
   ]
  },
  {
   "cell_type": "code",
   "execution_count": null,
   "id": "9c6fa58f",
   "metadata": {},
   "outputs": [],
   "source": []
  }
 ],
 "metadata": {
  "kernelspec": {
   "display_name": "Python 3",
   "language": "python",
   "name": "python3"
  },
  "language_info": {
   "codemirror_mode": {
    "name": "ipython",
    "version": 3
   },
   "file_extension": ".py",
   "mimetype": "text/x-python",
   "name": "python",
   "nbconvert_exporter": "python",
   "pygments_lexer": "ipython3",
   "version": "3.7.7"
  }
 },
 "nbformat": 4,
 "nbformat_minor": 5
}
